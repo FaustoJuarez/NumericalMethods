{
  "nbformat": 4,
  "nbformat_minor": 0,
  "metadata": {
    "colab": {
      "name": "Gauss Jacobi.ipynb",
      "provenance": []
    },
    "kernelspec": {
      "name": "python3",
      "display_name": "Python 3"
    },
    "language_info": {
      "name": "python"
    }
  },
  "cells": [
    {
      "cell_type": "code",
      "metadata": {
        "id": "TSof-FPwVPN9"
      },
      "source": [
        "from pprint import pprint\n",
        "from numpy import array, zeros, diag, diagflat, dot\n",
        "\n",
        "def jacobi(A,b,N=25,x=None):\n",
        "    \"\"\"Gauss Jacobi\"\"\"\n",
        "    # Crea suposicion inicial si es necsaria                                                                                                                                                          \n",
        "    if x is None:\n",
        "        x = zeros(len(A[0]))\n",
        "\n",
        "    # Crea vector de la diagonal de A                                                                                                                                                \n",
        "    # y lo substrae de A                                                                                                                                                                     \n",
        "    D = diag(A)\n",
        "    R = A - diagflat(D)\n",
        "\n",
        "    # Itera N veces                                                                                                                                                                          \n",
        "    for i in range(N):\n",
        "        x = (b - dot(R,x)) / D\n",
        "    return x\n",
        "\n",
        "A = array([[2.0,1.0],[5.0,7.0]])\n",
        "b = array([11.0,13.0])\n",
        "suposicion = array([1.0,1.0])\n",
        "\n",
        "solucion = jacobi(A,b,N=25,x=suposicion)\n",
        "\n",
        "print \"A:\"\n",
        "pprint(A)\n",
        "\n",
        "print \"b:\"\n",
        "pprint(b)\n",
        "\n",
        "print \"x:\"\n",
        "pprint(sol)"
      ],
      "execution_count": null,
      "outputs": []
    }
  ]
}