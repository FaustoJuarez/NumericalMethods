{
  "nbformat": 4,
  "nbformat_minor": 0,
  "metadata": {
    "colab": {
      "name": "TP6-EDO.ipynb",
      "provenance": [],
      "collapsed_sections": []
    },
    "kernelspec": {
      "name": "python3",
      "display_name": "Python 3"
    },
    "language_info": {
      "name": "python"
    }
  },
  "cells": [
    {
      "cell_type": "markdown",
      "metadata": {
        "id": "JHUVFCeY111P"
      },
      "source": [
        "Metodo de Euler"
      ]
    },
    {
      "cell_type": "code",
      "metadata": {
        "colab": {
          "base_uri": "https://localhost:8080/"
        },
        "id": "hT3tKdkX1sMx",
        "outputId": "5fb97211-57c2-415e-c219-aa801c9bc61c"
      },
      "source": [
        "h=0.1\n",
        "x0=0\n",
        "y0=1\n",
        "xn=0.5\n",
        "\n",
        "def fn(x,y):\n",
        "    return 2*x*y\n",
        "\n",
        "def Euler(h,xi,yi):\n",
        "    xi = round(xi + h,3)\n",
        "    yi = round(yi + fn(xi,yi)*h,3)\n",
        "    return (xi,yi)\n",
        "print(\"x0 \\t y0\")\n",
        "while(x0<=xn):\n",
        "  print(x0,\"\\t\", y0)\n",
        "  x0,y0=Euler(h,x0,y0)\n",
        "  "
      ],
      "execution_count": 31,
      "outputs": [
        {
          "output_type": "stream",
          "name": "stdout",
          "text": [
            "x0 \t y0\n",
            "0 \t 1\n",
            "0.1 \t 1.02\n",
            "0.2 \t 1.061\n",
            "0.3 \t 1.125\n",
            "0.4 \t 1.215\n",
            "0.5 \t 1.337\n"
          ]
        }
      ]
    },
    {
      "cell_type": "markdown",
      "metadata": {
        "id": "miRS5saP9fql"
      },
      "source": [
        "Metodo de Trapecios\n"
      ]
    },
    {
      "cell_type": "code",
      "metadata": {
        "colab": {
          "base_uri": "https://localhost:8080/"
        },
        "id": "nBnoqtzv9fmd",
        "outputId": "892e7c1f-b443-4a9e-cb32-1fb2189ec062"
      },
      "source": [
        "h=0.2\n",
        "x0=0\n",
        "y0=0\n",
        "\n",
        "def fn(x,y):\n",
        "  return x+y\n",
        "\n",
        "def trapecios(h,xi,yi):\n",
        "  xi = round(xi + h,3)\n",
        "  k1 = round(h*fn(xi,yi),3)\n",
        "  k2 = round(h*fn(xi+h,yi+k1),3)\n",
        "  yi = round((yi + (k1+k2)/2),3)\n",
        "  print(xi,\"\\t\",yi,\"\\t\",k1,\"\\t\",k2,)\n",
        "\n",
        "  return xi,yi\n",
        "\n",
        "print(\"xi\\t yi\\t k1 \\tk2\")\n",
        "print(x0,\"\\t\",y0) \n",
        "while x0<2:\n",
        "  x0,y0 = trapecios(h,x0,y0)\n",
        "\n",
        "\n"
      ],
      "execution_count": 34,
      "outputs": [
        {
          "output_type": "stream",
          "name": "stdout",
          "text": [
            "xi\t yi\t k1 \tk2\n",
            "0 \t 0\n",
            "0.2 \t 0.064 \t 0.04 \t 0.088\n",
            "0.4 \t 0.186 \t 0.093 \t 0.151\n",
            "0.6 \t 0.379 \t 0.157 \t 0.229\n",
            "0.8 \t 0.658 \t 0.236 \t 0.323\n",
            "1.0 \t 1.043 \t 0.332 \t 0.438\n",
            "1.2 \t 1.556 \t 0.449 \t 0.578\n",
            "1.4 \t 2.226 \t 0.591 \t 0.749\n",
            "1.6 \t 3.087 \t 0.765 \t 0.958\n",
            "1.8 \t 4.182 \t 0.977 \t 1.213\n",
            "2.0 \t 5.562 \t 1.236 \t 1.524\n"
          ]
        }
      ]
    },
    {
      "cell_type": "markdown",
      "metadata": {
        "id": "7pXSaVyiAF3r"
      },
      "source": [
        "Metodo Runge Kutta 4 "
      ]
    },
    {
      "cell_type": "code",
      "metadata": {
        "colab": {
          "base_uri": "https://localhost:8080/"
        },
        "id": "7Xlsrq7FAK37",
        "outputId": "f54ce3da-16f6-41bc-d196-c1f6667382ad"
      },
      "source": [
        "h=0.2\n",
        "x0=0\n",
        "y0=0\n",
        "\n",
        "def fn(x,y):\n",
        "  return x+y\n",
        "\n",
        "def RK4(h,xi,yi):\n",
        " \n",
        "  k1 = round(fn(xi,yi),3)\n",
        "  k2 = round(fn(xi+0.5*h,yi+0.5*k1*h),3)\n",
        "  k3 = round(fn(xi+0.5*h,yi+0.5*k2*h),3)\n",
        "  k4 = round(fn(xi+h,yi+k3*h),3)\n",
        "  yi = round(yi + (h/6)*(k1+2*k2+2*k3+k4),3)\n",
        "  xi = round(xi+h,3)\n",
        "  print(xi,\"\\t\",k1,\"\\t\",k2,\"\\t\",k3,\"\\t\",k4,\"\\t\",yi)\n",
        "\n",
        "  return xi,yi\n",
        "\n",
        "print(\"xi\\t k1 \\tk2 \\t k3 \\tk4 \\t yi\")\n",
        "print(x0,\"\\t\",y0) \n",
        "while x0<2:\n",
        "  x0,y0 = RK4(h,x0,y0)"
      ],
      "execution_count": 36,
      "outputs": [
        {
          "output_type": "stream",
          "name": "stdout",
          "text": [
            "xi\t k1 \tk2 \t k3 \tk4 \t yi\n",
            "0 \t 0\n",
            "0.2 \t 0 \t 0.1 \t 0.11 \t 0.222 \t 0.021\n",
            "0.4 \t 0.221 \t 0.343 \t 0.355 \t 0.492 \t 0.091\n",
            "0.6 \t 0.491 \t 0.64 \t 0.655 \t 0.822 \t 0.221\n",
            "0.8 \t 0.821 \t 1.003 \t 1.021 \t 1.225 \t 0.424\n",
            "1.0 \t 1.224 \t 1.446 \t 1.469 \t 1.718 \t 0.716\n",
            "1.2 \t 1.716 \t 1.988 \t 2.015 \t 2.319 \t 1.117\n",
            "1.4 \t 2.317 \t 2.649 \t 2.682 \t 3.053 \t 1.651\n",
            "1.6 \t 3.051 \t 3.456 \t 3.497 \t 3.95 \t 2.348\n",
            "1.8 \t 3.948 \t 4.443 \t 4.492 \t 5.046 \t 3.243\n",
            "2.0 \t 5.043 \t 5.647 \t 5.708 \t 6.385 \t 4.381\n"
          ]
        }
      ]
    },
    {
      "cell_type": "markdown",
      "metadata": {
        "id": "qDfYyym4CFA6"
      },
      "source": [
        "Metodo Adams Bashforth"
      ]
    },
    {
      "cell_type": "code",
      "metadata": {
        "colab": {
          "base_uri": "https://localhost:8080/"
        },
        "id": "D6Xo9cFnCJJ7",
        "outputId": "877d5c75-3040-4867-ec3a-4fbd88184fa8"
      },
      "source": [
        "h=0.25\n",
        "x0=0\n",
        "y0=1\n",
        "\n",
        "def fn(x,y):\n",
        "  return -(x/y)\n",
        "\n",
        "def RK4(h,xi,yi):\n",
        " \n",
        "  k1 = round(fn(xi,yi),4)\n",
        "  k2 = round(fn(xi+0.5*h,yi+0.5*k1*h),4)\n",
        "  k3 = round(fn(xi+0.5*h,yi+0.5*k2*h),4)\n",
        "  k4 = round(fn(xi+h,yi+k3*h),4)\n",
        "  yi = round(yi + (h/6)*(k1+2*k2+2*k3+k4),4)\n",
        "  xi = round(xi+h,4)\n",
        "  print(xi,\"\\t\",k1,\"\\t\",k2,\"\\t\",k3,\"\\t\",k4,\"\\t\",yi)\n",
        "\n",
        "  return xi,yi\n",
        "\n",
        "def AdamsBashforth(h,xb,yb,xc,yc):\n",
        "  ya = round(yb + 0.5*h*(3*fn(xb,yb)-fn(xc,yc)),4)\n",
        "  xa =  round(xb+h,4)\n",
        "  xc =  round(xb,4)\n",
        "  yc =  round(yb,4 )\n",
        "  return xa,ya,xc,yc\n",
        "\n",
        "\n",
        "print(\"xn\\t yn+1 \\t\\t yn \\t\\t xn-1 \\t\\t yn-1 \")\n",
        "print(x0,\"\\t\",y0) \n",
        "yc = y0\n",
        "xc = x0\n",
        "\n",
        "while x0<0.25:\n",
        "  x0,y0 = RK4(h,x0,y0)\n",
        "\n",
        "yb = round(y0,4)\n",
        "xb = x0\n",
        "while xb<=1.00:\n",
        "  xa,ya,xc,yc = AdamsBashforth(h,xb,yb,xc,yc)\n",
        "  print(xb,\"\\t\",yb,\"\\t  \",ya,\"\\t\",xc,\"\\t\",yc)\n",
        "  xb=xa\n",
        "  yb=ya\n",
        "\n",
        "\n"
      ],
      "execution_count": 55,
      "outputs": [
        {
          "output_type": "stream",
          "name": "stdout",
          "text": [
            "xn\t yn+1 \t\t yn \t\t xn-1 \t\t yn-1 \n",
            "0 \t 1\n",
            "0.25 \t -0.0 \t -0.125 \t -0.127 \t -0.2582 \t 0.9682\n",
            "0.25 \t 0.9682 \t   0.8714 \t 0.25 \t 0.9682\n",
            "0.5 \t 0.8714 \t   0.6885 \t 0.5 \t 0.8714\n",
            "0.75 \t 0.6885 \t   0.3517 \t 0.75 \t 0.6885\n",
            "1.0 \t 0.3517 \t   -0.5784 \t 1.0 \t 0.3517\n"
          ]
        }
      ]
    },
    {
      "cell_type": "markdown",
      "metadata": {
        "id": "P2Ls8JnfOAT4"
      },
      "source": [
        "Sistema con Metodo de Euler "
      ]
    },
    {
      "cell_type": "code",
      "metadata": {
        "colab": {
          "base_uri": "https://localhost:8080/"
        },
        "id": "Ns6_0A4dOQIj",
        "outputId": "a438d3f1-841e-4895-ca30-8f876f0362a7"
      },
      "source": [
        "h=0.5\n",
        "x=0\n",
        "y1=4\n",
        "y2=6\n",
        "xn=2\n",
        "def fn1(x,y1):\n",
        "    return -0.5*y1\n",
        "def fn2(x,y1,y2):\n",
        "    return 4-0.1*y1-0.3*y2\n",
        "\n",
        "def Euler(h,x,y1,y2):\n",
        "    x = round(x + h,3)\n",
        "    y2 = round(y2 + fn2(x,y1,y2)*h,3)\n",
        "    y1 = round(y1 + fn1(x,y1)*h,3)\n",
        "    \n",
        "    return (x,y1,y2)\n",
        "\n",
        "print(\"x \\t y1 \\t y2\")\n",
        "while(x<=xn):\n",
        "  print(x,\"\\t\", y1,\"\\t\", y2)\n",
        "  x,y1,y2=Euler(h,x,y1,y2)"
      ],
      "execution_count": 59,
      "outputs": [
        {
          "output_type": "stream",
          "name": "stdout",
          "text": [
            "x \t y1 \t y2\n",
            "0 \t 4 \t 6\n",
            "0.5 \t 3.0 \t 6.9\n",
            "1.0 \t 2.25 \t 7.715\n",
            "1.5 \t 1.688 \t 8.445\n",
            "2.0 \t 1.266 \t 9.094\n"
          ]
        }
      ]
    }
  ]
}