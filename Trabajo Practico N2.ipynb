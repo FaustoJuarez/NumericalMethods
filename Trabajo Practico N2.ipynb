{
  "nbformat": 4,
  "nbformat_minor": 0,
  "metadata": {
    "colab": {
      "name": "Metodos Numericos.ipynb",
      "provenance": [],
      "collapsed_sections": []
    },
    "kernelspec": {
      "name": "python3",
      "display_name": "Python 3"
    },
    "language_info": {
      "name": "python"
    }
  },
  "cells": [
    {
      "cell_type": "code",
      "metadata": {
        "id": "kN3NP6garQRl"
      },
      "source": [
        "import numpy as np\n",
        "import math\n",
        "import matplotlib.pyplot as plt"
      ],
      "execution_count": null,
      "outputs": []
    },
    {
      "cell_type": "markdown",
      "metadata": {
        "id": "MEl9pteKsFd7"
      },
      "source": [
        "Quizz 1 - TP 1 "
      ]
    },
    {
      "cell_type": "code",
      "metadata": {
        "colab": {
          "base_uri": "https://localhost:8080/"
        },
        "id": "jivhL6wfzNVA",
        "outputId": "5770593c-8e7f-476c-da6f-3c1673431d35"
      },
      "source": [
        "x = 1.5\n",
        "y = np.sin(x+2)+2*(np.cos(3*x))\n",
        "print(y)\n",
        "\n"
      ],
      "execution_count": null,
      "outputs": [
        {
          "output_type": "stream",
          "name": "stdout",
          "text": [
            "-0.7723748265511792\n"
          ]
        }
      ]
    },
    {
      "cell_type": "code",
      "metadata": {
        "colab": {
          "base_uri": "https://localhost:8080/"
        },
        "id": "4okNppVX6sYk",
        "outputId": "3d9aef4b-42ba-4e5a-f5f0-9e4f0a0a00c1"
      },
      "source": [
        "x= 1.0 \n",
        "y=-5.0\n",
        "z=6.0\n",
        "a = x+(y+z)\n",
        "print(a)\n",
        "a = (x+y)+z\n",
        "print(a)"
      ],
      "execution_count": null,
      "outputs": [
        {
          "output_type": "stream",
          "name": "stdout",
          "text": [
            "2.0\n",
            "2.0\n"
          ]
        }
      ]
    },
    {
      "cell_type": "code",
      "metadata": {
        "colab": {
          "base_uri": "https://localhost:8080/"
        },
        "id": "SR0ChJBw7M2y",
        "outputId": "0c949b6e-3af0-479e-efe9-f0bf7ebebda1"
      },
      "source": [
        "x= 1*(10**20) \n",
        "y=-1*(10**20)\n",
        "z=1.0\n",
        "a = x+(y+z)\n",
        "print(a)\n",
        "a = (x+y)+z\n",
        "print(a)"
      ],
      "execution_count": null,
      "outputs": [
        {
          "output_type": "stream",
          "name": "stdout",
          "text": [
            "0.0\n",
            "1.0\n"
          ]
        }
      ]
    },
    {
      "cell_type": "code",
      "metadata": {
        "colab": {
          "base_uri": "https://localhost:8080/"
        },
        "id": "eEp7Wk8570MK",
        "outputId": "0896fd98-5222-42af-f197-403f1e9ec3a3"
      },
      "source": [
        "x=0\n",
        "for i in range(10000):\n",
        "  if(i>=1):\n",
        "    x = np.float32(x + (1/i**4))\n",
        "\n",
        "\n",
        "print(x)"
      ],
      "execution_count": null,
      "outputs": [
        {
          "output_type": "stream",
          "name": "stdout",
          "text": [
            "1.0823221\n"
          ]
        }
      ]
    },
    {
      "cell_type": "code",
      "metadata": {
        "colab": {
          "base_uri": "https://localhost:8080/"
        },
        "id": "q4-njmPIcRcd",
        "outputId": "2d7e5ebc-ad0d-4653-cee2-ec9b386bbeaa"
      },
      "source": [
        "import numpy as np\n",
        "import math as m\n",
        "\n",
        "print(serie(6))\n",
        "def serie(n):\n",
        "    suma= 0\n",
        "    i= 1\n",
        "    while i <= n:\n",
        "        if(i%2 == 0):\n",
        "            suma+= i\n",
        "        i+= 1\n",
        "    return suma"
      ],
      "execution_count": null,
      "outputs": [
        {
          "output_type": "stream",
          "name": "stdout",
          "text": [
            "12\n"
          ]
        }
      ]
    },
    {
      "cell_type": "code",
      "metadata": {
        "colab": {
          "base_uri": "https://localhost:8080/"
        },
        "id": "6hrW4RKAbr4Y",
        "outputId": "d8167147-1473-4998-f1a9-12ccbdfff506"
      },
      "source": [
        "lista_planetas = ['Luna','Saturno','Venus']\n",
        "\n",
        "iniciales = []\n",
        "for i in lista_planetas:\n",
        "    ini = i[0:4]\n",
        "    iniciales.append(ini)\n",
        "    \n",
        "print(iniciales)"
      ],
      "execution_count": null,
      "outputs": [
        {
          "output_type": "stream",
          "name": "stdout",
          "text": [
            "['Luna', 'Satu', 'Venu']\n"
          ]
        }
      ]
    },
    {
      "cell_type": "code",
      "metadata": {
        "colab": {
          "base_uri": "https://localhost:8080/"
        },
        "id": "Y6O4-xWfQr14",
        "outputId": "61065901-3c8c-4cd6-eda7-85545cdf020d"
      },
      "source": [
        "x = 0.6\n",
        "y = bin(int(x))\n",
        "print(\"X decimal \",x)\n",
        "print(\"X binario \",y)"
      ],
      "execution_count": null,
      "outputs": [
        {
          "output_type": "stream",
          "name": "stdout",
          "text": [
            "X decimal  0.6\n",
            "X binario  0b0\n"
          ]
        }
      ]
    },
    {
      "cell_type": "markdown",
      "metadata": {
        "id": "UJG-woSTsAPI"
      },
      "source": [
        "TP 2"
      ]
    },
    {
      "cell_type": "code",
      "metadata": {
        "id": "I_0QoZkvaeXG"
      },
      "source": [
        "import numpy as np\n",
        "import math\n",
        "import matplotlib.pyplot as plt"
      ],
      "execution_count": null,
      "outputs": []
    },
    {
      "cell_type": "markdown",
      "metadata": {
        "id": "qg6bwtQENbOh"
      },
      "source": [
        "Punto 1 "
      ]
    },
    {
      "cell_type": "code",
      "metadata": {
        "id": "xQlvvVIEr_49",
        "colab": {
          "base_uri": "https://localhost:8080/",
          "height": 703
        },
        "outputId": "532f4f12-cf0a-4825-f4d9-ebe5f83ec3eb"
      },
      "source": [
        "x = np.linspace(-3,5,15)\n",
        "y1 = (2*x**3)-(3*x)-4\n",
        "\n",
        "plt.title(\"Biseccion y Regula Falsi\")\n",
        "plt.legend(('y1','y2'), loc='upper left')\n",
        "plt.xlabel('x')\n",
        "plt.ylabel('y')\n",
        "plt.axhline(color='black', lw=0.5)\n",
        "plt.axvline(color='black', lw=0.5)\n",
        "plt.plot(x,y1,'r')\n",
        "\n",
        "def f(x):\n",
        "  return (2*x**3)-(3*x)-4\n",
        "\n",
        "def biseccion(a,b,e,max):\n",
        "    step = 1\n",
        "    p = (a+b)/2\n",
        "    print('\\n\\n*** Implementacion Metodo Biseccion ***')\n",
        "    while(step<=max and np.abs(f(p))>e):\n",
        "      p = (a+b)/2\n",
        "      print('Iteracion %d, p = %0.6f and f(p) = %0.6f' % (step, p, f(p)))\n",
        "      \n",
        "      if(f(a)*f(p)>0):\n",
        "        a = p\n",
        "      \n",
        "      else:\n",
        "        b = p\n",
        "\n",
        "      step = step+1\n",
        "    if(step>max):\n",
        "      print(\"No converge en \", max)\n",
        "    else:\n",
        "      print(\"Raiz = \",p)\n",
        "\n",
        "def regulafalsi(a,b,e,max):\n",
        "    step = 1\n",
        "    x =b-(f(b)*(b-a)/(f(b)-f(a)))\n",
        "    print(\"\\n\\n*** Implementacion Metodo Regula Falsi ***\")\n",
        "    while(step<=max and np.abs(f(x))>e):\n",
        "      print('Iteracion %d, x = %0.6f and f(x) = %0.6f' % (step, x, f(x)))\n",
        "      step = step+1\n",
        "      if(f(a)*f(x)>0):\n",
        "        a = x\n",
        "      \n",
        "      else:\n",
        "        b = x\n",
        "\n",
        "      \n",
        "      x =b-(f(b)*(b-a)/(f(b)-f(a)))\n",
        "    if(step>max):\n",
        "      print(\"No converge en \", max)\n",
        "    else:\n",
        "      print(\"Raiz = \",x)\n",
        "\n",
        "biseccion(1,2,0.001,30)\n",
        "regulafalsi(1,2,0.001,30)\n"
      ],
      "execution_count": null,
      "outputs": [
        {
          "output_type": "stream",
          "name": "stdout",
          "text": [
            "\n",
            "\n",
            "*** Implementacion Metodo Biseccion ***\n",
            "Iteracion 1, p = 1.500000 and f(p) = -1.750000\n",
            "Iteracion 2, p = 1.750000 and f(p) = 1.468750\n",
            "Iteracion 3, p = 1.625000 and f(p) = -0.292969\n",
            "Iteracion 4, p = 1.687500 and f(p) = 0.548340\n",
            "Iteracion 5, p = 1.656250 and f(p) = 0.117981\n",
            "Iteracion 6, p = 1.640625 and f(p) = -0.089897\n",
            "Iteracion 7, p = 1.648438 and f(p) = 0.013438\n",
            "Iteracion 8, p = 1.644531 and f(p) = -0.038380\n",
            "Iteracion 9, p = 1.646484 and f(p) = -0.012509\n",
            "Iteracion 10, p = 1.647461 and f(p) = 0.000455\n",
            "Raiz =  1.6474609375\n",
            "\n",
            "\n",
            "*** Implementacion Metodo Regula Falsi ***\n",
            "Iteracion 1, x = 1.454545 and f(x) = -2.208866\n",
            "Iteracion 2, x = 1.601318 and f(x) = -0.591693\n",
            "Iteracion 3, x = 1.637105 and f(x) = -0.136062\n",
            "Iteracion 4, x = 1.645152 and f(x) = -0.030166\n",
            "Iteracion 5, x = 1.646927 and f(x) = -0.006634\n",
            "Iteracion 6, x = 1.647317 and f(x) = -0.001456\n",
            "Raiz =  1.647402604696811\n"
          ]
        },
        {
          "output_type": "display_data",
          "data": {
            "image/png": "[encoded data removed]",
            "text/plain": [
              "<Figure size 432x288 with 1 Axes>"
            ]
          },
          "metadata": {
            "needs_background": "light"
          }
        }
      ]
    },
    {
      "cell_type": "markdown",
      "metadata": {
        "id": "ylTXBf8ANXtQ"
      },
      "source": [
        "Punto 2 "
      ]
    },
    {
      "cell_type": "code",
      "metadata": {
        "colab": {
          "base_uri": "https://localhost:8080/",
          "height": 499
        },
        "id": "jl-1Rqq7mhL6",
        "outputId": "97623b7c-dc0a-462a-c4b1-d7cef508cd08"
      },
      "source": [
        "def f(x,B,C):\n",
        "  return (x**3)-(B*x**2)+x-C\n",
        "\n",
        "xlist = np.linspace(0,10,15)\n",
        "ylist = f(xlist,2,3)\n",
        "\n",
        "plt.plot(xlist,ylist,'r')\n",
        "\n",
        "def derivada(xlist,ylist):\n",
        "    yprima = np.diff(ylist)/np.diff(xlist)\n",
        "    xprima = []\n",
        "    for i in range(len(yprima)):\n",
        "        xtemp = (xlist[i+1]+xlist[i])/2\n",
        "        xprima = np.append(xprima,xtemp)\n",
        "    return xprima,yprima\n",
        "\n",
        "xprima, yprima = derivada(xlist,ylist)\n",
        "plt.plot(xprima,yprima,'b')\n",
        "\n",
        "plt.title(\"Newton y Secante\")\n",
        "plt.legend(('y1','y2'), loc='upper left')\n",
        "plt.xlabel('x')\n",
        "plt.ylabel('y')\n",
        "plt.axhline(color='black', lw=0.5)\n",
        "plt.axvline(color='black', lw=0.5)\n",
        "\n",
        "def f(x):\n",
        "  return (x**3)-(3*x**2)+x-3\n",
        "\n",
        "def secant(x0,x1,e,N):\n",
        "    print('\\n\\n*** SECANT METHOD IMPLEMENTATION ***')\n",
        "    step = 1\n",
        "    condition = True\n",
        "    while condition:\n",
        "        if f(x0) == f(x1):\n",
        "            print('Divide by zero error!')\n",
        "            break\n",
        "        \n",
        "        x2 = x0 - (x1-x0)*f(x0)/( f(x1) - f(x0) ) \n",
        "        print('Iteration-%d, x2 = %0.6f and f(x2) = %0.6f' % (step, x2, f(x2)))\n",
        "        x0 = x1\n",
        "        x1 = x2\n",
        "        step = step + 1\n",
        "        \n",
        "        if step > N:\n",
        "            print('Not Convergent!')\n",
        "            break\n",
        "        \n",
        "        condition = abs(f(x2)) > e\n",
        "    print('\\n Required root is: %0.8f' % x2)\n",
        "\n",
        "def newtonRaphson(x0,e,N):\n",
        "    print('\\n\\n*** NEWTON RAPHSON METHOD IMPLEMENTATION ***')\n",
        "    step = 1\n",
        "    flag = 1\n",
        "    condition = True\n",
        "    while condition:\n",
        "        if g(x0) == 0.0:\n",
        "            print('Divide by zero error!')\n",
        "            break\n",
        "        \n",
        "        x1 = x0 - f(x0)/g(x0)\n",
        "        print('Iteration-%d, x1 = %0.6f and f(x1) = %0.6f' % (step, x1, f(x1)))\n",
        "        x0 = x1\n",
        "        step = step + 1\n",
        "        \n",
        "        if step > N:\n",
        "            flag = 0\n",
        "            break\n",
        "        \n",
        "        condition = abs(f(x1)) > e\n",
        "    \n",
        "    if flag==1:\n",
        "        print('\\nRequired root is: %0.8f' % x1)\n",
        "    else:\n",
        "        print('\\nNot Convergent.')\n",
        "\n",
        "secant(1,2,0.001,30)\n",
        "#newtonRaphson(3,0.001,30)\n",
        "#regulafalsi(1,2,0.001,30)"
      ],
      "execution_count": null,
      "outputs": [
        {
          "output_type": "stream",
          "name": "stdout",
          "text": [
            "\n",
            "\n",
            "*** SECANT METHOD IMPLEMENTATION ***\n",
            "Iteration-1, x2 = -3.000000 and f(x2) = -60.000000\n",
            "Iteration-2, x2 = 2.454545 and f(x2) = -3.831705\n",
            "Iteration-3, x2 = 2.826645 and f(x2) = -1.558446\n",
            "Iteration-4, x2 = 3.081740 and f(x2) = 0.858039\n",
            "Iteration-5, x2 = 2.991162 and f(x2) = -0.087913\n",
            "Iteration-6, x2 = 2.999580 and f(x2) = -0.004200\n",
            "Iteration-7, x2 = 3.000002 and f(x2) = 0.000022\n",
            "\n",
            " Required root is: 3.00000224\n"
          ]
        },
        {
          "output_type": "display_data",
          "data": {
            "image/png": "[encoded data removed]",
            "text/plain": [
              "<Figure size 432x288 with 1 Axes>"
            ]
          },
          "metadata": {
            "needs_background": "light"
          }
        }
      ]
    },
    {
      "cell_type": "code",
      "metadata": {
        "id": "4XVpUMfcDPBF"
      },
      "source": [
        "def f(x):\n",
        "  f = np.poly1d([1,-2,1,-3])\n",
        "  return f\n",
        "\n",
        "def g(x):\n",
        "  return f.deriv()\n",
        "\n",
        "print(f(x))\n",
        "print(g(x))"
      ],
      "execution_count": null,
      "outputs": []
    },
    {
      "cell_type": "markdown",
      "metadata": {
        "id": "eW8CGa5kNVAA"
      },
      "source": [
        "Punto 3"
      ]
    },
    {
      "cell_type": "code",
      "metadata": {
        "colab": {
          "base_uri": "https://localhost:8080/"
        },
        "id": "oHgAegyXNTa6",
        "outputId": "87b53658-55ad-4a72-ae49-3b79f42de426"
      },
      "source": [
        "def f(x):\n",
        "  return x**2 + x - 1\n",
        "def g(x):\n",
        "  return 1/(x+1)\n",
        "\n",
        "def puntofijo(x,e,N):\n",
        "  it = 0 \n",
        "  x1 = x + 2*e\n",
        "  while(it<N and np.abs(x1-x)>e):\n",
        "    x1 = g(x)\n",
        "    it = it + 1\n",
        "    x = x1\n",
        "    print('Iteration-%d, x1 = %0.6f and f(x1) = %0.6f' % (it, x1, f(x1)))\n",
        "\n",
        "  if(it>N):\n",
        "    print(\"No converge en \", N )\n",
        "  else:\n",
        "    print(\"Raiz =\", x1)\n",
        "\n",
        "\n",
        "\n",
        "puntofijo(1,0.0001,30)"
      ],
      "execution_count": null,
      "outputs": [
        {
          "output_type": "stream",
          "name": "stdout",
          "text": [
            "Iteration-1, x1 = 0.500000 and f(x1) = -0.250000\n",
            "Raiz = 0.5\n"
          ]
        }
      ]
    }
  ]
}