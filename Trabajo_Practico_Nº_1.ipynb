{
  "nbformat": 4,
  "nbformat_minor": 0,
  "metadata": {
    "colab": {
      "name": "Trabajo Practico Nº 1.ipynb",
      "provenance": [],
      "collapsed_sections": []
    },
    "kernelspec": {
      "name": "python3",
      "display_name": "Python 3"
    },
    "language_info": {
      "name": "python"
    }
  },
  "cells": [
    {
      "cell_type": "markdown",
      "metadata": {
        "id": "VUPjOYqw_gVk"
      },
      "source": [
        "# Trabajo Practico Nº 1 \n",
        "Juárez Yélamos Fausto\n"
      ]
    },
    {
      "cell_type": "markdown",
      "metadata": {
        "id": "6Vonr3ho_zWg"
      },
      "source": [
        "3. Sume con PYTHON x + y + z de las dos formas siguientes: x + (y + z) y (x + y) + z.\n",
        "Explicar los resultados obtenidos cuando:\n",
        "\n",
        "a) x = 1.0, y = −5.0, z = 6.0\n",
        "b) x = 1 × 1020, y = −1 × 1020, z = 1.0"
      ]
    },
    {
      "cell_type": "code",
      "metadata": {
        "id": "Nw3s-rpk_fZP"
      },
      "source": [
        "import numpy as np\n",
        "import math"
      ],
      "execution_count": 1,
      "outputs": []
    },
    {
      "cell_type": "code",
      "metadata": {
        "colab": {
          "base_uri": "https://localhost:8080/"
        },
        "id": "HojX4WmB_9WV",
        "outputId": "040c64aa-f857-4d74-fad0-0b733e7e0c6b"
      },
      "source": [
        "x= 1.0 \n",
        "y=-5.0\n",
        "z=6.0\n",
        "a = x+(y+z)\n",
        "print(a)\n",
        "a = (x+y)+z\n",
        "print(a)"
      ],
      "execution_count": 3,
      "outputs": [
        {
          "output_type": "stream",
          "name": "stdout",
          "text": [
            "2.0\n",
            "2.0\n"
          ]
        }
      ]
    },
    {
      "cell_type": "code",
      "metadata": {
        "colab": {
          "base_uri": "https://localhost:8080/"
        },
        "id": "stYybONaAFCV",
        "outputId": "51a2e75a-ab6e-4877-bddb-d554b7b6ed61"
      },
      "source": [
        "x= 1*(10**20) \n",
        "y=-1*(10**20)\n",
        "z=1.0\n",
        "a = x+(y+z)\n",
        "print(a)\n",
        "a = (x+y)+z\n",
        "print(a)"
      ],
      "execution_count": 2,
      "outputs": [
        {
          "output_type": "stream",
          "name": "stdout",
          "text": [
            "0.0\n",
            "1.0\n"
          ]
        }
      ]
    },
    {
      "cell_type": "markdown",
      "metadata": {
        "id": "WOQ8E_l1ANUc"
      },
      "source": [
        "6) La serie infinita:\n",
        "converge a un valor de:\n",
        "conforme n tiende a infinito.\n",
        " Escriba un programa de simple precisión para calcular\n",
        "f(n) para n=10000 por medio del cálculo de la suma desde i = 1 hasta 10000. Después\n",
        "realice el cálculo en sentido inverso. En cada caso, calcule el error relativo. Explique\n",
        "los resultados."
      ]
    },
    {
      "cell_type": "code",
      "metadata": {
        "colab": {
          "base_uri": "https://localhost:8080/"
        },
        "id": "DVv_uOscALGg",
        "outputId": "2c598546-efe6-42dc-f3a5-b9ce0dcc4f54"
      },
      "source": [
        "x=0\n",
        "for i in range(10000):\n",
        "  if(i>=1):\n",
        "    x = np.float32(x + (1/i**4))\n",
        "\n",
        "print(\"El valor de la serie es \",x)\n",
        "print(\"El error relativo es \",np.abs(x-((math.pi)**4)/90))\n"
      ],
      "execution_count": 10,
      "outputs": [
        {
          "output_type": "stream",
          "name": "stdout",
          "text": [
            "El valor de la serie es  1.0823221\n",
            "El error relativo es  1.1130446340157363e-06\n"
          ]
        }
      ]
    },
    {
      "cell_type": "code",
      "metadata": {
        "colab": {
          "base_uri": "https://localhost:8080/"
        },
        "id": "jpQzxJl6Ackn",
        "outputId": "8710ecf1-6ac9-40d3-c985-20624884e9af"
      },
      "source": [
        "x=0\n",
        "i=1000\n",
        "while i>=1:\n",
        "  x = np.float32(x + (1/i**4))\n",
        "  i=i-1\n",
        "\n",
        "print(\"El valor de la serie es \",x)\n",
        "print(\"El error relativo es \",np.abs(x-((math.pi)**4)/90))"
      ],
      "execution_count": 12,
      "outputs": [
        {
          "output_type": "stream",
          "name": "stdout",
          "text": [
            "El valor de la serie es  1.0823232\n",
            "El error relativo es  4.016102805870503e-08\n"
          ]
        }
      ]
    }
  ]
}